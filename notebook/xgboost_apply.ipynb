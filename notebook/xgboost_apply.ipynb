{
 "cells": [
  {
   "cell_type": "markdown",
   "id": "f0a6b8ce",
   "metadata": {},
   "source": [
    "### Download Dataset"
   ]
  },
  {
   "cell_type": "code",
   "execution_count": null,
   "id": "d46cfc0f",
   "metadata": {},
   "outputs": [],
   "source": [
    "import opendatasets as od\n",
    "import pandas as pd"
   ]
  },
  {
   "cell_type": "code",
   "execution_count": 5,
   "id": "817acc07",
   "metadata": {},
   "outputs": [
    {
     "name": "stdout",
     "output_type": "stream",
     "text": [
      "Please provide your Kaggle credentials to download this dataset. Learn more: http://bit.ly/kaggle-creds\n",
      "Your Kaggle username:Your Kaggle Key:Dataset URL: https://www.kaggle.com/datasets/marshalpatel3558/diabetes-prediction-dataset-legit-dataset\n",
      "Downloading diabetes-prediction-dataset-legit-dataset.zip to ../data\\diabetes-prediction-dataset-legit-dataset\n"
     ]
    },
    {
     "name": "stderr",
     "output_type": "stream",
     "text": [
      "100%|██████████| 15.6k/15.6k [00:00<00:00, 4.42MB/s]"
     ]
    },
    {
     "name": "stdout",
     "output_type": "stream",
     "text": [
      "\n"
     ]
    },
    {
     "name": "stderr",
     "output_type": "stream",
     "text": [
      "\n"
     ]
    }
   ],
   "source": [
    "od.download(\"https://www.kaggle.com/datasets/marshalpatel3558/diabetes-prediction-dataset-legit-dataset\",\"../data\")"
   ]
  },
  {
   "cell_type": "code",
   "execution_count": 7,
   "id": "ee77e86c",
   "metadata": {},
   "outputs": [],
   "source": [
    "diabetes_dataset = pd.read_csv(\"../data/diabetes-prediction-dataset-legit-dataset/Dataset of Diabetes .csv\")"
   ]
  },
  {
   "cell_type": "code",
   "execution_count": null,
   "id": "df266b85",
   "metadata": {},
   "outputs": [],
   "source": [
    "diabetes_dataset.head(5)"
   ]
  },
  {
   "cell_type": "code",
   "execution_count": 9,
   "id": "283598e7",
   "metadata": {},
   "outputs": [
    {
     "name": "stdout",
     "output_type": "stream",
     "text": [
      "<class 'pandas.core.frame.DataFrame'>\n",
      "RangeIndex: 1000 entries, 0 to 999\n",
      "Data columns (total 14 columns):\n",
      " #   Column     Non-Null Count  Dtype  \n",
      "---  ------     --------------  -----  \n",
      " 0   ID         1000 non-null   int64  \n",
      " 1   No_Pation  1000 non-null   int64  \n",
      " 2   Gender     1000 non-null   object \n",
      " 3   AGE        1000 non-null   int64  \n",
      " 4   Urea       1000 non-null   float64\n",
      " 5   Cr         1000 non-null   int64  \n",
      " 6   HbA1c      1000 non-null   float64\n",
      " 7   Chol       1000 non-null   float64\n",
      " 8   TG         1000 non-null   float64\n",
      " 9   HDL        1000 non-null   float64\n",
      " 10  LDL        1000 non-null   float64\n",
      " 11  VLDL       1000 non-null   float64\n",
      " 12  BMI        1000 non-null   float64\n",
      " 13  CLASS      1000 non-null   object \n",
      "dtypes: float64(8), int64(4), object(2)\n",
      "memory usage: 109.5+ KB\n"
     ]
    }
   ],
   "source": [
    "diabetes_dataset.info()"
   ]
  },
  {
   "cell_type": "code",
   "execution_count": 15,
   "id": "b469d6fa",
   "metadata": {},
   "outputs": [
    {
     "name": "stdout",
     "output_type": "stream",
     "text": [
      "The dataset present some errors like diferents terms to same class.\n",
      "For label CLASS: ['N' 'N ' 'P' 'Y' 'Y ']\n",
      "For label Gender: ['F' 'M' 'f']\n"
     ]
    }
   ],
   "source": [
    "list_class = diabetes_dataset['CLASS'].unique()\n",
    "list_gender = diabetes_dataset['Gender'].unique()\n",
    "print(f'The dataset present some errors like diferents terms to same class.\\nFor label CLASS: {list_class}\\nFor label Gender: {list_gender}')"
   ]
  },
  {
   "cell_type": "code",
   "execution_count": 18,
   "id": "2d1b12a6",
   "metadata": {},
   "outputs": [],
   "source": [
    "diabetes_dataset['CLASS'] = diabetes_dataset['CLASS'].apply(lambda x: str.upper(x).strip())\n",
    "diabetes_dataset['Gender'] = diabetes_dataset['Gender'].apply(lambda x: str.upper(x))"
   ]
  },
  {
   "cell_type": "code",
   "execution_count": 19,
   "id": "1d5e51a1",
   "metadata": {},
   "outputs": [
    {
     "name": "stdout",
     "output_type": "stream",
     "text": [
      "The dataset present some errors like diferents terms to same class.\n",
      "For label CLASS: ['N' 'P' 'Y']\n",
      "For label Gender: ['F' 'M']\n"
     ]
    }
   ],
   "source": [
    "list_class = diabetes_dataset['CLASS'].unique()\n",
    "list_gender = diabetes_dataset['Gender'].unique()\n",
    "print(f'The dataset present some errors like diferents terms to same class.\\nFor label CLASS: {list_class}\\nFor label Gender: {list_gender}')"
   ]
  },
  {
   "cell_type": "markdown",
   "id": "748a453a",
   "metadata": {},
   "source": [
    "### Apply XGBoost on the Dataset"
   ]
  },
  {
   "cell_type": "code",
   "execution_count": null,
   "id": "efbfc9ab",
   "metadata": {},
   "outputs": [],
   "source": []
  },
  {
   "cell_type": "markdown",
   "id": "a23781d0",
   "metadata": {},
   "source": [
    "### References"
   ]
  },
  {
   "cell_type": "markdown",
   "id": "1487282a",
   "metadata": {},
   "source": [
    "[Dive into XGBoost and Scikit-learn: Machine Learning with XGBoost and Scikit-learn](https://medium.com/@bravinwasike18/dive-into-xgboost-and-scikit-learnmachine-learning-with-xgboost-and-scikit-learn-17e2cf54f3a3)"
   ]
  }
 ],
 "metadata": {
  "kernelspec": {
   "display_name": ".venv",
   "language": "python",
   "name": "python3"
  },
  "language_info": {
   "codemirror_mode": {
    "name": "ipython",
    "version": 3
   },
   "file_extension": ".py",
   "mimetype": "text/x-python",
   "name": "python",
   "nbconvert_exporter": "python",
   "pygments_lexer": "ipython3",
   "version": "3.11.0"
  }
 },
 "nbformat": 4,
 "nbformat_minor": 5
}
